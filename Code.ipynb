{
 "cells": [
  {
   "cell_type": "code",
   "execution_count": null,
   "id": "ad1e1e92",
   "metadata": {},
   "outputs": [],
   "source": [
    "import pandas as pd\n",
    "import numpy as np\n",
    "\n",
    "# Load the Excel file\n",
    "df = pd.read_excel(\"Data.xlsx\")\n",
    "\n",
    "# Calculate total transaction price per row\n",
    "df[\"TotalPrice\"] = df[\"Quantity\"] * df[\"UnitPrice\"]\n",
    "\n",
    "# Drop rows with missing CustomerID or Country\n",
    "df_clean = df.dropna(subset=[\"CustomerID\", \"Country\"])\n",
    "\n",
    "# Convert InvoiceDate to datetime\n",
    "df_clean[\"InvoiceDate\"] = pd.to_datetime(df_clean[\"InvoiceDate\"])\n",
    "\n",
    "# Filter: only transactions from 2011\n",
    "df_2011 = df_clean[df_clean[\"InvoiceDate\"].dt.year == 2011]\n",
    "\n",
    "# Group by Country and CustomerID to calculate total spending per customer\n",
    "grouped_2011 = df_2011.groupby([\"Country\", \"CustomerID\"])[\"TotalPrice\"].sum().reset_index()\n",
    "\n",
    "# Keep only customers whose total spending is over 40\n",
    "filtered_grouped = grouped_2011[grouped_2011[\"TotalPrice\"] > 40]\n",
    "\n",
    "# Calculate median, mean, and mode per country\n",
    "summary = filtered_grouped.groupby(\"Country\")[\"TotalPrice\"].agg(\n",
    "    Median=\"median\",\n",
    "    Mean=\"mean\",\n",
    "    Mode=lambda x: x.mode().iloc[0] if not x.mode().empty else np.nan\n",
    ").reset_index()\n",
    "\n",
    "# Convert to matrix form: rows = statistics, columns = countries\n",
    "matrix = summary.set_index(\"Country\").T\n",
    "matrix.index.name = \"Statistic\"\n",
    "\n",
    "# Display the matrix\n",
    "print(matrix)"
   ]
  }
 ],
 "metadata": {
  "language_info": {
   "name": "python"
  }
 },
 "nbformat": 4,
 "nbformat_minor": 5
}
